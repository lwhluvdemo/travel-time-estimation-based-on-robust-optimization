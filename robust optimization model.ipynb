{
 "cells": [
  {
   "cell_type": "code",
   "execution_count": 2,
   "metadata": {},
   "outputs": [],
   "source": [
    "using JuMP, Statistics\n",
    "using Gurobi,JuMPeR,LinearAlgebra,SparseArrays\n",
    "# using DataFrames, IndexedTables\n",
    "# using Distributions"
   ]
  },
  {
   "cell_type": "code",
   "execution_count": 1,
   "metadata": {},
   "outputs": [
    {
     "name": "stderr",
     "output_type": "stream",
     "text": [
      "┌ Info: Precompiling OpenStreetMapX [86cd37e6-c0ff-550b-95fe-21d72c8d4fc9]\n",
      "└ @ Base loading.jl:1260\n",
      "┌ Info: Saved map data to cache graph.osm.cache\n",
      "└ @ OpenStreetMapX C:\\Users\\24829\\.julia\\packages\\OpenStreetMapX\\jQrP5\\src\\parseMap.jl:140\n"
     ]
    },
    {
     "name": "stdout",
     "output_type": "stream",
     "text": [
      "The map contains 0 nodes\n"
     ]
    }
   ],
   "source": [
    "using OpenStreetMapX\n",
    "map_data = get_map_data(\"graph.osm\");\n",
    "\n",
    "println(\"The map contains $(length(map_data.nodes)) nodes\")"
   ]
  },
  {
   "cell_type": "code",
   "execution_count": 24,
   "metadata": {},
   "outputs": [
    {
     "name": "stderr",
     "output_type": "stream",
     "text": [
      "┌ Warning: @addConstraint is deprecated, use @constraint instead.\n",
      "│   caller = eval at boot.jl:331 [inlined]\n",
      "└ @ Core .\\boot.jl:331\n"
     ]
    },
    {
     "ename": "LoadError",
     "evalue": "In @constraint($(Expr(:escape, :(sum{(w[i] + σ[i] * z[i]) * x[i], i = 1:n} <= C)))): Not enough arguments",
     "output_type": "error",
     "traceback": [
      "In @constraint($(Expr(:escape, :(sum{(w[i] + σ[i] * z[i]) * x[i], i = 1:n} <= C)))): Not enough arguments",
      "",
      "Stacktrace:",
      " [1] error(::String, ::String) at .\\error.jl:42",
      " [2] constraint_error(::Array{Expr,1}, ::String) at C:\\Users\\24829\\.julia\\packages\\JuMP\\I7whV\\src\\macros.jl:422",
      " [3] @constraint(::LineNumberNode, ::Module, ::Vararg{Any,N} where N) at C:\\Users\\24829\\.julia\\packages\\JuMP\\I7whV\\src\\macros.jl:440"
     ]
    }
   ],
   "source": [
    "\n",
    "n, C, Γ = 10, 3, 4\n",
    "p, w = rand(n), rand(n)\n",
    "σ = 0.2 * rand(n) .* w\n",
    "knap = RobustModel()\n",
    "@variable(knap,      x[1:n], Bin)\n",
    "@uncertain(knap, 0 <= z[1:n] <= 1)\n",
    "\n",
    "@addConstraint(knap, sum{(w[i]+σ[i]*z[i])*x[i], i=1:n} <= C)\n",
    "@addConstraint(knap, sum{z[i], i=1:n} <= Γ)\n",
    "\n",
    "@setObjective(knap, Max, sum{p[i]*x[i], i=1:n})\n",
    "\n",
    "solve(knap)"
   ]
  },
  {
   "cell_type": "code",
   "execution_count": 36,
   "metadata": {},
   "outputs": [
    {
     "name": "stderr",
     "output_type": "stream",
     "text": [
      "┌ Warning: A variable or constraint named x is already attached to this model. If creating variables programmatically, use the anonymous variable syntax x = @variable(m, [1:N], ...).\n",
      "└ @ JuMP C:\\Users\\24829\\.julia\\packages\\JuMP\\I7whV\\src\\JuMP.jl:857\n"
     ]
    },
    {
     "ename": "LoadError",
     "evalue": "in @objective: needs three arguments: model, objective sense (Max or Min) and expression.",
     "output_type": "error",
     "traceback": [
      "in @objective: needs three arguments: model, objective sense (Max or Min) and expression.",
      "",
      "Stacktrace:",
      " [1] error(::String) at .\\error.jl:33",
      " [2] @objective(::LineNumberNode, ::Module, ::Any, ::Vararg{Any,N} where N) at C:\\Users\\24829\\.julia\\packages\\JuMP\\I7whV\\src\\macros.jl:850"
     ]
    }
   ],
   "source": [
    "@variable(knap,      x[1:n], Bin)\n",
    "@uncertain(knap, 0 <= z[1:n] <= 1)\n",
    "@setObjective(knap, Max, sum{p[i]*x[i], i=1:n})"
   ]
  },
  {
   "cell_type": "code",
   "execution_count": 12,
   "metadata": {},
   "outputs": [
    {
     "data": {
      "text/plain": [
       "3-element Array{JuMPeR.Adaptive,1}:\n",
       " JuMPeR.Adaptive(Feasibility problem with:\n",
       " * 0 linear constraints\n",
       " * 0 variables\n",
       "Solver is Gurobi, 1)\n",
       " JuMPeR.Adaptive(Feasibility problem with:\n",
       " * 0 linear constraints\n",
       " * 0 variables\n",
       "Solver is Gurobi, 2)\n",
       " JuMPeR.Adaptive(Feasibility problem with:\n",
       " * 0 linear constraints\n",
       " * 0 variables\n",
       "Solver is Gurobi, 3)"
      ]
     },
     "execution_count": 12,
     "metadata": {},
     "output_type": "execute_result"
    }
   ],
   "source": [
    "s=5\n",
    "k=3\n",
    "mod= RobustModel(solver=GurobiSolver())\n",
    "@uncertain(mod,ξ[i=1:k,j=1:s])\n",
    "@adaptive(mod,ext[1:k], policy=Affine, depends_on=ξ[1:k])\n",
    "# @variable(mod, obj)\n",
    "# @setObjective(mod, Max, obj)"
   ]
  },
  {
   "cell_type": "code",
   "execution_count": 7,
   "metadata": {},
   "outputs": [
    {
     "data": {
      "text/html": [
       "<table class=\"data-frame\"><thead><tr><th></th><th>id</th><th>vendor_id</th><th>pickup_datetime</th><th>dropoff_datetime</th><th>passenger_count</th></tr><tr><th></th><th>String</th><th>Int64</th><th>Dates.D…</th><th>Dates.D…</th><th>Int64</th></tr></thead><tbody><p>6 rows × 11 columns (omitted printing of 6 columns)</p><tr><th>1</th><td>id2875421</td><td>2</td><td>2016-03-14T17:24:55</td><td>2016-03-14T17:32:30</td><td>1</td></tr><tr><th>2</th><td>id2377394</td><td>1</td><td>2016-06-12T00:43:35</td><td>2016-06-12T00:54:38</td><td>1</td></tr><tr><th>3</th><td>id3858529</td><td>2</td><td>2016-01-19T11:35:24</td><td>2016-01-19T12:10:48</td><td>1</td></tr><tr><th>4</th><td>id3504673</td><td>2</td><td>2016-04-06T19:32:31</td><td>2016-04-06T19:39:40</td><td>1</td></tr><tr><th>5</th><td>id2181028</td><td>2</td><td>2016-03-26T13:30:55</td><td>2016-03-26T13:38:10</td><td>1</td></tr><tr><th>6</th><td>id0801584</td><td>2</td><td>2016-01-30T22:01:40</td><td>2016-01-30T22:09:03</td><td>6</td></tr></tbody></table>"
      ],
      "text/latex": [
       "\\begin{tabular}{r|cccccc}\n",
       "\t& id & vendor\\_id & pickup\\_datetime & dropoff\\_datetime & passenger\\_count & \\\\\n",
       "\t\\hline\n",
       "\t& String & Int64 & Dates.D… & Dates.D… & Int64 & \\\\\n",
       "\t\\hline\n",
       "\t1 & id2875421 & 2 & 2016-03-14T17:24:55 & 2016-03-14T17:32:30 & 1 & $\\dots$ \\\\\n",
       "\t2 & id2377394 & 1 & 2016-06-12T00:43:35 & 2016-06-12T00:54:38 & 1 & $\\dots$ \\\\\n",
       "\t3 & id3858529 & 2 & 2016-01-19T11:35:24 & 2016-01-19T12:10:48 & 1 & $\\dots$ \\\\\n",
       "\t4 & id3504673 & 2 & 2016-04-06T19:32:31 & 2016-04-06T19:39:40 & 1 & $\\dots$ \\\\\n",
       "\t5 & id2181028 & 2 & 2016-03-26T13:30:55 & 2016-03-26T13:38:10 & 1 & $\\dots$ \\\\\n",
       "\t6 & id0801584 & 2 & 2016-01-30T22:01:40 & 2016-01-30T22:09:03 & 6 & $\\dots$ \\\\\n",
       "\\end{tabular}\n"
      ],
      "text/plain": [
       "6×11 DataFrame. Omitted printing of 7 columns\n",
       "│ Row │ id        │ vendor_id │ pickup_datetime     │ dropoff_datetime    │\n",
       "│     │ \u001b[90mString\u001b[39m    │ \u001b[90mInt64\u001b[39m     │ \u001b[90mDates.DateTime\u001b[39m      │ \u001b[90mDates.DateTime\u001b[39m      │\n",
       "├─────┼───────────┼───────────┼─────────────────────┼─────────────────────┤\n",
       "│ 1   │ id2875421 │ 2         │ 2016-03-14T17:24:55 │ 2016-03-14T17:32:30 │\n",
       "│ 2   │ id2377394 │ 1         │ 2016-06-12T00:43:35 │ 2016-06-12T00:54:38 │\n",
       "│ 3   │ id3858529 │ 2         │ 2016-01-19T11:35:24 │ 2016-01-19T12:10:48 │\n",
       "│ 4   │ id3504673 │ 2         │ 2016-04-06T19:32:31 │ 2016-04-06T19:39:40 │\n",
       "│ 5   │ id2181028 │ 2         │ 2016-03-26T13:30:55 │ 2016-03-26T13:38:10 │\n",
       "│ 6   │ id0801584 │ 2         │ 2016-01-30T22:01:40 │ 2016-01-30T22:09:03 │"
      ]
     },
     "execution_count": 7,
     "metadata": {},
     "output_type": "execute_result"
    }
   ],
   "source": [
    "# using CSVFiles, DataFrames\n",
    "# df = DataFrame(load(\"nyc-taxi-trip-duration\\\\train.csv\"))\n",
    "first(df,6)\n",
    "# show(df, allcols=true)"
   ]
  },
  {
   "cell_type": "code",
   "execution_count": 11,
   "metadata": {},
   "outputs": [
    {
     "data": {
      "text/plain": [
       "11-element Array{String,1}:\n",
       " \"id\"\n",
       " \"vendor_id\"\n",
       " \"pickup_datetime\"\n",
       " \"dropoff_datetime\"\n",
       " \"passenger_count\"\n",
       " \"pickup_longitude\"\n",
       " \"pickup_latitude\"\n",
       " \"dropoff_longitude\"\n",
       " \"dropoff_latitude\"\n",
       " \"store_and_fwd_flag\"\n",
       " \"trip_duration\""
      ]
     },
     "execution_count": 11,
     "metadata": {},
     "output_type": "execute_result"
    }
   ],
   "source": [
    "names(df)"
   ]
  },
  {
   "cell_type": "code",
   "execution_count": 8,
   "metadata": {},
   "outputs": [],
   "source": []
  },
  {
   "cell_type": "markdown",
   "metadata": {},
   "source": [
    "### 鲁棒优化"
   ]
  },
  {
   "cell_type": "code",
   "execution_count": 3,
   "metadata": {
    "scrolled": true
   },
   "outputs": [
    {
     "data": {
      "text/plain": [
       "NominalProblem (generic function with 1 method)"
      ]
     },
     "execution_count": 3,
     "metadata": {},
     "output_type": "execute_result"
    }
   ],
   "source": [
    "# Nominal Problem\n",
    "function NominalProblem(n,μ,δ)\n",
    "    NetworkModel = Model(solver=GurobiSolver(OutputFlag=0))\n",
    "    capacity = (ones(n,n)-Matrix{Float64}(I, n, n))*0.5\n",
    "    capacity[1,n] = 0\n",
    "    capacity[n,1] = 0\n",
    "    @variable(NetworkModel, flow[i=1:n,j=1:n]>=0)\n",
    "    @constraint(NetworkModel, flow .<= capacity)\n",
    "    @constraint(NetworkModel, sum(flow[1,i] for i=1:n)==1)\n",
    "    @constraint(NetworkModel, sum(flow[i,n] for i=1:n)==1)\n",
    "    for j = 2:n-1\n",
    "        @constraint(NetworkModel, sum(flow[i,j] for i=1:n) == sum(flow[j,k] for k=1:n)  )\n",
    "    end\n",
    "    @objective(NetworkModel,Min, sum(flow[i,j]*μ[i,j] for i=1:n for j=1:n) );\n",
    "    solve(NetworkModel)\n",
    "    return getvalue(flow)\n",
    "end\n"
   ]
  },
  {
   "cell_type": "code",
   "execution_count": 2,
   "metadata": {},
   "outputs": [],
   "source": [
    "# {\\hat{T}}_{od}(\\mathbf{t})={min}\\below{p_{od}\\in\\mathcal{P}_{od}}\\sum_{(i,j)\\in P_{od}} t_{ij}"
   ]
  },
  {
   "cell_type": "code",
   "execution_count": 4,
   "metadata": {},
   "outputs": [
    {
     "data": {
      "text/plain": [
       "RobustProblem (generic function with 1 method)"
      ]
     },
     "execution_count": 4,
     "metadata": {},
     "output_type": "execute_result"
    }
   ],
   "source": [
    "# Robust Problem\n",
    "function RobustProblem(m,o,d,z,λ,norm_type)\n",
    "    NetworkModel_robust = RobustModel(solver=GurobiSolver(OutputFlag=0))\n",
    "    @variable(NetworkModel_robust, n[o=1:m,d=1:m]>=0)\n",
    "    @variable(NetworkModel_robust, x[o=1:m,d=1:m]>=0)\n",
    "    # 不确定集的变量\n",
    "    @uncertain(NetworkModel_robust, t[i=1:m,j=1:m])\n",
    "    \n",
    "    @variable(NetworkModel_robust, obj) \n",
    "    ptintln(a_star(mgw, o[z], d[z]))\n",
    "    @constraint(NetworkModel_robust, T[i,j] = mgw[z,:trip_duration] )\n",
    "    @constraint(NetworkModel_robust, T[i,j] >=sum(t[i,j]) )\n",
    "    @constraint(NetworkModel_robust, x[o,d]+T[i,j] >=norm([T[o,d]-x[o,d],\n",
    "                                                            2*sqrt(T[o,d])],2))\n",
    "    @constraint(NetworkModel_robust, t[i,j] >= fastest_route(o,d))\n",
    "    \n",
    "    d[i,j] = shortest_route(map_data,o,d)[2] \n",
    "    regularization = λ*sum{ abs(t[i,j]/d[i,j]-t[i-1,l]/d[i-1,l]) * 2/(d[k,l]+d[i-1,j-1]) }\n",
    "    @objective(NetworkModel_robust, Min, n[o,d]*x[o,d] + regularization)\n",
    "    solve(NetworkModel_robust)\n",
    "    return getvalue(t,λ)\n",
    "end"
   ]
  },
  {
   "cell_type": "code",
   "execution_count": null,
   "metadata": {},
   "outputs": [],
   "source": [
    "# 算法部分\n",
    "# for o,d,i,j in zip(mgw[:Origin,:Destination,])"
   ]
  },
  {
   "cell_type": "code",
   "execution_count": null,
   "metadata": {},
   "outputs": [],
   "source": [
    "# function RobustProblem(n,μ,δ,Γ,norm_type)\n",
    "#     NetworkModel_robust = RobustModel(solver=GurobiSolver(OutputFlag=0))\n",
    "\n",
    "#     @variable(NetworkModel_robust, n[o=1:n,d=1:n]>=0)\n",
    "#     # 不确定集的变量\n",
    "#     @uncertain(NetworkModel_robust, cost[i=1:n,j=1:n])\n",
    "#     @uncertain(NetworkModel_robust, r[i=1:n,j=1:n])\n",
    "    \n",
    "#     @variable(NetworkModel_robust, obj) \n",
    "    \n",
    "#     for i = 1:n\n",
    "#         for j = 1:n\n",
    "#         @constraint(NetworkModel_robust, cost[i,j] == μ[i,j]+r[i,j]*δ[i,j])\n",
    "#         end\n",
    "#     end  \n",
    "#     @constraint(NetworkModel_robust, norm(r,norm_type) <= Γ)\n",
    "#     @constraint(NetworkModel_robust, flow .<= capacity)\n",
    "#     @constraint(NetworkModel_robust, sum(flow[1,i] for i=1:n) == 1)\n",
    "#     @constraint(NetworkModel_robust, sum(flow[i,n] for i=1:n) == 1)\n",
    "#     for j = 2:n-1\n",
    "#         @constraint(NetworkModel_robust, sum(flow[i,j] for i=1:n) == sum(flow[j,k] for k=1:n))\n",
    "#     end\n",
    "#     @constraint(NetworkModel_robust, sum(cost[i,j]*flow[i,j] for i=1:n for j=1:n) <= obj )\n",
    "#     @objective(NetworkModel_robust, Min, obj)\n",
    "#     solve(NetworkModel_robust)\n",
    "#     return getvalue(flow)\n",
    "# end"
   ]
  },
  {
   "cell_type": "code",
   "execution_count": 48,
   "metadata": {
    "scrolled": true
   },
   "outputs": [
    {
     "name": "stderr",
     "output_type": "stream",
     "text": [
      "┌ Warning: A variable or constraint named flow is already attached to this model. If creating variables programmatically, use the anonymous variable syntax x = @variable(m, [1:N], ...).\n",
      "└ @ JuMP C:\\Users\\24829\\.julia\\packages\\JuMP\\I7whV\\src\\JuMP.jl:857\n"
     ]
    },
    {
     "data": {
      "text/latex": [
       "$$ flow_{i,j} \\geq 0 \\quad\\forall i \\in \\{1,2,\\dots,9,10\\}, j \\in \\{1,2,\\dots,9,10\\} $$"
      ],
      "text/plain": [
       "10×10 Array{Variable,2}:\n",
       " flow[1,1]   flow[1,2]   flow[1,3]   …  flow[1,8]   flow[1,9]   flow[1,10]\n",
       " flow[2,1]   flow[2,2]   flow[2,3]      flow[2,8]   flow[2,9]   flow[2,10]\n",
       " flow[3,1]   flow[3,2]   flow[3,3]      flow[3,8]   flow[3,9]   flow[3,10]\n",
       " flow[4,1]   flow[4,2]   flow[4,3]      flow[4,8]   flow[4,9]   flow[4,10]\n",
       " flow[5,1]   flow[5,2]   flow[5,3]      flow[5,8]   flow[5,9]   flow[5,10]\n",
       " flow[6,1]   flow[6,2]   flow[6,3]   …  flow[6,8]   flow[6,9]   flow[6,10]\n",
       " flow[7,1]   flow[7,2]   flow[7,3]      flow[7,8]   flow[7,9]   flow[7,10]\n",
       " flow[8,1]   flow[8,2]   flow[8,3]      flow[8,8]   flow[8,9]   flow[8,10]\n",
       " flow[9,1]   flow[9,2]   flow[9,3]      flow[9,8]   flow[9,9]   flow[9,10]\n",
       " flow[10,1]  flow[10,2]  flow[10,3]     flow[10,8]  flow[10,9]  flow[10,10]"
      ]
     },
     "execution_count": 48,
     "metadata": {},
     "output_type": "execute_result"
    }
   ],
   "source": [
    "@variable(NetworkModel_robust, flow[i=1:n,j=1:n]>=0)"
   ]
  },
  {
   "cell_type": "code",
   "execution_count": 52,
   "metadata": {},
   "outputs": [
    {
     "data": {
      "text/plain": [
       "10×10 Array{ConstraintRef{Model,JuMP.GenericRangeConstraint{JuMP.GenericAffExpr{Float64,Variable}}},2}:\n",
       " flow[1,1] <= 0     flow[1,2] <= 0.5   …  flow[1,10] <= 0.5\n",
       " flow[2,1] <= 0.5   flow[2,2] <= 0        flow[2,10] <= 0.5\n",
       " flow[3,1] <= 0.5   flow[3,2] <= 0.5      flow[3,10] <= 0.5\n",
       " flow[4,1] <= 0.5   flow[4,2] <= 0.5      flow[4,10] <= 0.5\n",
       " flow[5,1] <= 0.5   flow[5,2] <= 0.5      flow[5,10] <= 0.5\n",
       " flow[6,1] <= 0.5   flow[6,2] <= 0.5   …  flow[6,10] <= 0.5\n",
       " flow[7,1] <= 0.5   flow[7,2] <= 0.5      flow[7,10] <= 0.5\n",
       " flow[8,1] <= 0.5   flow[8,2] <= 0.5      flow[8,10] <= 0.5\n",
       " flow[9,1] <= 0.5   flow[9,2] <= 0.5      flow[9,10] <= 0.5\n",
       " flow[10,1] <= 0.5  flow[10,2] <= 0.5     flow[10,10] <= 0"
      ]
     },
     "execution_count": 52,
     "metadata": {},
     "output_type": "execute_result"
    }
   ],
   "source": [
    "@constraint(NetworkModel_robust, flow .<= capacity)"
   ]
  },
  {
   "cell_type": "code",
   "execution_count": 53,
   "metadata": {},
   "outputs": [
    {
     "data": {
      "text/plain": [
       "10×10 Array{JuMPeR.Uncertain,2}:\n",
       " r[1,1]   r[1,2]   r[1,3]   r[1,4]   …  r[1,7]   r[1,8]   r[1,9]   r[1,10]\n",
       " r[2,1]   r[2,2]   r[2,3]   r[2,4]      r[2,7]   r[2,8]   r[2,9]   r[2,10]\n",
       " r[3,1]   r[3,2]   r[3,3]   r[3,4]      r[3,7]   r[3,8]   r[3,9]   r[3,10]\n",
       " r[4,1]   r[4,2]   r[4,3]   r[4,4]      r[4,7]   r[4,8]   r[4,9]   r[4,10]\n",
       " r[5,1]   r[5,2]   r[5,3]   r[5,4]      r[5,7]   r[5,8]   r[5,9]   r[5,10]\n",
       " r[6,1]   r[6,2]   r[6,3]   r[6,4]   …  r[6,7]   r[6,8]   r[6,9]   r[6,10]\n",
       " r[7,1]   r[7,2]   r[7,3]   r[7,4]      r[7,7]   r[7,8]   r[7,9]   r[7,10]\n",
       " r[8,1]   r[8,2]   r[8,3]   r[8,4]      r[8,7]   r[8,8]   r[8,9]   r[8,10]\n",
       " r[9,1]   r[9,2]   r[9,3]   r[9,4]      r[9,7]   r[9,8]   r[9,9]   r[9,10]\n",
       " r[10,1]  r[10,2]  r[10,3]  r[10,4]     r[10,7]  r[10,8]  r[10,9]  r[10,10]"
      ]
     },
     "execution_count": 53,
     "metadata": {},
     "output_type": "execute_result"
    }
   ],
   "source": [
    "@uncertain(NetworkModel_robust, r[i=1:n,j=1:n])"
   ]
  },
  {
   "cell_type": "code",
   "execution_count": 56,
   "metadata": {
    "scrolled": true
   },
   "outputs": [
    {
     "data": {
      "text/plain": [
       "ConstraintRef{JuMPeR.BasicUncertaintySet,JuMP.GenericRangeConstraint{JuMP.GenericAffExpr{Float64,JuMPeR.Uncertain}}}(JuMPeR.BasicUncertaintySet(false, JuMP.GenericRangeConstraint{JuMP.GenericAffExpr{Float64,JuMPeR.Uncertain}}[], JuMPeR.UncSetNormConstraint[‖r[1,1],r[2,1],r[3,1],r[4,1],r[5,1],r[6,1],r[7,1],r[8,1],r[9,1],r[10,1],r[1,2],r[2,2],r[3,2],r[4,2],r[5,2],r[6,2],r[7,2],r[8,2],r[9,2],r[10,2],r[1,3],r[2,3],r[3,3],r[4,3],r[5,3],r[6,3],r[7,3],r[8,3],r[9,3],r[10,3],r[1,4],r[2,4],r[3,4],r[4,4],r[5,4],r[6,4],r[7,4],r[8,4],r[9,4],r[10,4],r[1,5],r[2,5],r[3,5],r[4,5],r[5,5],r[6,5],r[7,5],r[8,5],r[9,5],r[10,5],r[1,6],r[2,6],r[3,6],r[4,6],r[5,6],r[6,6],r[7,6],r[8,6],r[9,6],r[10,6],r[1,7],r[2,7],r[3,7],r[4,7],r[5,7],r[6,7],r[7,7],r[8,7],r[9,7],r[10,7],r[1,8],r[2,8],r[3,8],r[4,8],r[5,8],r[6,8],r[7,8],r[8,8],r[9,8],r[10,8],r[1,9],r[2,9],r[3,9],r[4,9],r[5,9],r[6,9],r[7,9],r[8,9],r[9,9],r[10,9],r[1,10],r[2,10],r[3,10],r[4,10],r[5,10],r[6,10],r[7,10],r[8,10],r[9,10],r[10,10]‖∞ <= 4], Feasibility problem with:\n",
       " * 0 linear constraints\n",
       " * 0 variables\n",
       "Solver is default solver, Empty Array{Variable} (no indices), 0.0, 0, Array{Tuple{Int64,Float64},1}[], Float64[], Symbol[], Symbol[], Array{Int64,1}[], Int64[], Array{Int64,1}[], Int64[], Array{Int64,1}[], Array{Int64,1}[]), 1)"
      ]
     },
     "execution_count": 56,
     "metadata": {},
     "output_type": "execute_result"
    }
   ],
   "source": [
    "@constraint(NetworkModel_robust, norm(r,Inf) <= Γ)"
   ]
  },
  {
   "cell_type": "code",
   "execution_count": 7,
   "metadata": {},
   "outputs": [
    {
     "name": "stdout",
     "output_type": "stream",
     "text": [
      "n=10Γ=0.0001n=10Γ=0.1n=10Γ=10.0n=10Γ=10000.0n=25Γ=0.0001n=25Γ=0.1n=25Γ=10.0n=25Γ=10000.0n=50Γ=0.0001n=50Γ=0.1n=50Γ=10.0n=50Γ=10000.0n=75Γ=0.0001n=75Γ=0.1n=75Γ=10.0n=75Γ=10000.0n=100Γ=0.0001n=100Γ=0.1n=100Γ=10.0n=100Γ=10000.0"
     ]
    }
   ],
   "source": [
    "function Evaluation()\n",
    "    n_type = [10,25,50,75,100]\n",
    "    Γ_type = [1e-4,1e-1,1e1,1e4]\n",
    "    report_data = zeros(13,5)\n",
    "    for n_idx = 1:5\n",
    "        n = n_type[n_idx]\n",
    "        count = 2\n",
    "        μ = 10*rand(n,n)\n",
    "        δ = zeros(n,n)\n",
    "        for i = 1:n\n",
    "            for j = 1:n\n",
    "                δ[i,j] = μ[i,j]*rand()\n",
    "            end\n",
    "        end\n",
    "        cost_sim = zeros(n,n)\n",
    "                for i = 1:n\n",
    "                    for j = 1:n\n",
    "                        cost_sim[i,j] = μ[i,j] + δ[i,j] * (rand()-0.5) * 2\n",
    "                    end\n",
    "                end\n",
    "        sol_0 = NominalProblem(n,μ,δ)\n",
    "        report_data[1,n_idx] = sum(sum(cost_sim.*sol_0))\n",
    "        for Γ in Γ_type\n",
    "            print(\"n=\",n,  \"Γ=\",Γ)\n",
    "            sol_inf = RobustProblem(n,μ,δ,Γ,Inf)\n",
    "            sol_1 = RobustProblem(n,μ,δ,Γ,1)\n",
    "            sol_2 = RobustProblem(n,μ,δ,Γ,2)    \n",
    "            report_data[count,n_idx] = sum(sum(cost_sim.*(sol_inf-sol_0)))\n",
    "            report_data[count+1,n_idx] = sum(sum(cost_sim.*(sol_1-sol_0) ))\n",
    "            report_data[count+2,n_idx] = sum(sum(cost_sim.*(sol_2-sol_0) ))\n",
    "            count = count + 3\n",
    "        end\n",
    "    end\n",
    "    return report_data\n",
    "end\n",
    "\n",
    "output = Evaluation();\n"
   ]
  },
  {
   "cell_type": "code",
   "execution_count": 12,
   "metadata": {},
   "outputs": [
    {
     "data": {
      "text/plain": [
       "13×5 Array{Float64,2}:\n",
       " 5.09269      2.09675      0.920964     1.23845     0.632904\n",
       " 0.0          0.0          0.0          0.0         0.0\n",
       " 0.0          0.0          0.0          0.0         0.0\n",
       " 1.20397e-7   4.25705e-8   2.69176e-8   7.46415e-9  7.55819e-9\n",
       " 0.0          0.0          0.0          0.0         0.0\n",
       " 0.0          0.0          0.0          0.0         0.0\n",
       " 1.6556e-8   -2.54838e-6   2.08303e-8  -2.69939e-8  2.06232e-7\n",
       " 0.0          0.648536     0.124022     0.188586    0.163508\n",
       " 2.30528      0.972108     0.209148     0.0261533   0.113444\n",
       " 1.58461      0.788783     0.186773     0.180756    0.138274\n",
       " 0.0          5.51162     10.983        6.41142     4.81391\n",
       " 3.14532      3.55501      5.71182      1.70063     2.97145\n",
       " 4.89285      7.92969     12.756        5.278       7.78682"
      ]
     },
     "execution_count": 12,
     "metadata": {},
     "output_type": "execute_result"
    }
   ],
   "source": [
    "output"
   ]
  },
  {
   "cell_type": "code",
   "execution_count": 82,
   "metadata": {
    "scrolled": false
   },
   "outputs": [
    {
     "data": {
      "image/svg+xml": [
       "<?xml version=\"1.0\" encoding=\"utf-8\"?>\n",
       "<svg xmlns=\"http://www.w3.org/2000/svg\" xmlns:xlink=\"http://www.w3.org/1999/xlink\" width=\"600\" height=\"400\" viewBox=\"0 0 2400 1600\">\n",
       "<defs>\n",
       "  <clipPath id=\"clip0100\">\n",
       "    <rect x=\"0\" y=\"0\" width=\"2400\" height=\"1600\"/>\n",
       "  </clipPath>\n",
       "</defs>\n",
       "<path clip-path=\"url(#clip0100)\" d=\"\n",
       "M0 1600 L2400 1600 L2400 0 L0 0  Z\n",
       "  \" fill=\"#ffffff\" fill-rule=\"evenodd\" fill-opacity=\"1\"/>\n",
       "<defs>\n",
       "  <clipPath id=\"clip0101\">\n",
       "    <rect x=\"480\" y=\"0\" width=\"1681\" height=\"1600\"/>\n",
       "  </clipPath>\n",
       "</defs>\n",
       "<path clip-path=\"url(#clip0100)\" d=\"\n",
       "M180.66 1425.62 L2352.76 1425.62 L2352.76 47.2441 L180.66 47.2441  Z\n",
       "  \" fill=\"#ffffff\" fill-rule=\"evenodd\" fill-opacity=\"1\"/>\n",
       "<defs>\n",
       "  <clipPath id=\"clip0102\">\n",
       "    <rect x=\"180\" y=\"47\" width=\"2173\" height=\"1379\"/>\n",
       "  </clipPath>\n",
       "</defs>\n",
       "<polyline clip-path=\"url(#clip0102)\" style=\"stroke:#000000; stroke-width:2; stroke-opacity:0.1; fill:none\" points=\"\n",
       "  469.818,1425.62 469.818,47.2441 \n",
       "  \"/>\n",
       "<polyline clip-path=\"url(#clip0102)\" style=\"stroke:#000000; stroke-width:2; stroke-opacity:0.1; fill:none\" points=\"\n",
       "  925.184,1425.62 925.184,47.2441 \n",
       "  \"/>\n",
       "<polyline clip-path=\"url(#clip0102)\" style=\"stroke:#000000; stroke-width:2; stroke-opacity:0.1; fill:none\" points=\"\n",
       "  1380.55,1425.62 1380.55,47.2441 \n",
       "  \"/>\n",
       "<polyline clip-path=\"url(#clip0102)\" style=\"stroke:#000000; stroke-width:2; stroke-opacity:0.1; fill:none\" points=\"\n",
       "  1835.92,1425.62 1835.92,47.2441 \n",
       "  \"/>\n",
       "<polyline clip-path=\"url(#clip0102)\" style=\"stroke:#000000; stroke-width:2; stroke-opacity:0.1; fill:none\" points=\"\n",
       "  2291.28,1425.62 2291.28,47.2441 \n",
       "  \"/>\n",
       "<polyline clip-path=\"url(#clip0102)\" style=\"stroke:#000000; stroke-width:2; stroke-opacity:0.1; fill:none\" points=\"\n",
       "  180.66,1292.58 2352.76,1292.58 \n",
       "  \"/>\n",
       "<polyline clip-path=\"url(#clip0102)\" style=\"stroke:#000000; stroke-width:2; stroke-opacity:0.1; fill:none\" points=\"\n",
       "  180.66,998.531 2352.76,998.531 \n",
       "  \"/>\n",
       "<polyline clip-path=\"url(#clip0102)\" style=\"stroke:#000000; stroke-width:2; stroke-opacity:0.1; fill:none\" points=\"\n",
       "  180.66,704.478 2352.76,704.478 \n",
       "  \"/>\n",
       "<polyline clip-path=\"url(#clip0102)\" style=\"stroke:#000000; stroke-width:2; stroke-opacity:0.1; fill:none\" points=\"\n",
       "  180.66,410.424 2352.76,410.424 \n",
       "  \"/>\n",
       "<polyline clip-path=\"url(#clip0102)\" style=\"stroke:#000000; stroke-width:2; stroke-opacity:0.1; fill:none\" points=\"\n",
       "  180.66,116.371 2352.76,116.371 \n",
       "  \"/>\n",
       "<polyline clip-path=\"url(#clip0100)\" style=\"stroke:#000000; stroke-width:4; stroke-opacity:1; fill:none\" points=\"\n",
       "  180.66,1425.62 2352.76,1425.62 \n",
       "  \"/>\n",
       "<polyline clip-path=\"url(#clip0100)\" style=\"stroke:#000000; stroke-width:4; stroke-opacity:1; fill:none\" points=\"\n",
       "  180.66,1425.62 180.66,47.2441 \n",
       "  \"/>\n",
       "<polyline clip-path=\"url(#clip0100)\" style=\"stroke:#000000; stroke-width:4; stroke-opacity:1; fill:none\" points=\"\n",
       "  469.818,1425.62 469.818,1409.08 \n",
       "  \"/>\n",
       "<polyline clip-path=\"url(#clip0100)\" style=\"stroke:#000000; stroke-width:4; stroke-opacity:1; fill:none\" points=\"\n",
       "  925.184,1425.62 925.184,1409.08 \n",
       "  \"/>\n",
       "<polyline clip-path=\"url(#clip0100)\" style=\"stroke:#000000; stroke-width:4; stroke-opacity:1; fill:none\" points=\"\n",
       "  1380.55,1425.62 1380.55,1409.08 \n",
       "  \"/>\n",
       "<polyline clip-path=\"url(#clip0100)\" style=\"stroke:#000000; stroke-width:4; stroke-opacity:1; fill:none\" points=\"\n",
       "  1835.92,1425.62 1835.92,1409.08 \n",
       "  \"/>\n",
       "<polyline clip-path=\"url(#clip0100)\" style=\"stroke:#000000; stroke-width:4; stroke-opacity:1; fill:none\" points=\"\n",
       "  2291.28,1425.62 2291.28,1409.08 \n",
       "  \"/>\n",
       "<polyline clip-path=\"url(#clip0100)\" style=\"stroke:#000000; stroke-width:4; stroke-opacity:1; fill:none\" points=\"\n",
       "  180.66,1292.58 206.725,1292.58 \n",
       "  \"/>\n",
       "<polyline clip-path=\"url(#clip0100)\" style=\"stroke:#000000; stroke-width:4; stroke-opacity:1; fill:none\" points=\"\n",
       "  180.66,998.531 206.725,998.531 \n",
       "  \"/>\n",
       "<polyline clip-path=\"url(#clip0100)\" style=\"stroke:#000000; stroke-width:4; stroke-opacity:1; fill:none\" points=\"\n",
       "  180.66,704.478 206.725,704.478 \n",
       "  \"/>\n",
       "<polyline clip-path=\"url(#clip0100)\" style=\"stroke:#000000; stroke-width:4; stroke-opacity:1; fill:none\" points=\"\n",
       "  180.66,410.424 206.725,410.424 \n",
       "  \"/>\n",
       "<polyline clip-path=\"url(#clip0100)\" style=\"stroke:#000000; stroke-width:4; stroke-opacity:1; fill:none\" points=\"\n",
       "  180.66,116.371 206.725,116.371 \n",
       "  \"/>\n",
       "<g clip-path=\"url(#clip0100)\">\n",
       "<text style=\"fill:#000000; fill-opacity:1; font-family:Arial,Helvetica Neue,Helvetica,sans-serif; font-size:48px; text-anchor:middle;\" transform=\"rotate(0, 469.818, 1479.62)\" x=\"469.818\" y=\"1479.62\">20</text>\n",
       "</g>\n",
       "<g clip-path=\"url(#clip0100)\">\n",
       "<text style=\"fill:#000000; fill-opacity:1; font-family:Arial,Helvetica Neue,Helvetica,sans-serif; font-size:48px; text-anchor:middle;\" transform=\"rotate(0, 925.184, 1479.62)\" x=\"925.184\" y=\"1479.62\">40</text>\n",
       "</g>\n",
       "<g clip-path=\"url(#clip0100)\">\n",
       "<text style=\"fill:#000000; fill-opacity:1; font-family:Arial,Helvetica Neue,Helvetica,sans-serif; font-size:48px; text-anchor:middle;\" transform=\"rotate(0, 1380.55, 1479.62)\" x=\"1380.55\" y=\"1479.62\">60</text>\n",
       "</g>\n",
       "<g clip-path=\"url(#clip0100)\">\n",
       "<text style=\"fill:#000000; fill-opacity:1; font-family:Arial,Helvetica Neue,Helvetica,sans-serif; font-size:48px; text-anchor:middle;\" transform=\"rotate(0, 1835.92, 1479.62)\" x=\"1835.92\" y=\"1479.62\">80</text>\n",
       "</g>\n",
       "<g clip-path=\"url(#clip0100)\">\n",
       "<text style=\"fill:#000000; fill-opacity:1; font-family:Arial,Helvetica Neue,Helvetica,sans-serif; font-size:48px; text-anchor:middle;\" transform=\"rotate(0, 2291.28, 1479.62)\" x=\"2291.28\" y=\"1479.62\">100</text>\n",
       "</g>\n",
       "<g clip-path=\"url(#clip0100)\">\n",
       "<text style=\"fill:#000000; fill-opacity:1; font-family:Arial,Helvetica Neue,Helvetica,sans-serif; font-size:48px; text-anchor:end;\" transform=\"rotate(0, 156.66, 1310.08)\" x=\"156.66\" y=\"1310.08\">2.5</text>\n",
       "</g>\n",
       "<g clip-path=\"url(#clip0100)\">\n",
       "<text style=\"fill:#000000; fill-opacity:1; font-family:Arial,Helvetica Neue,Helvetica,sans-serif; font-size:48px; text-anchor:end;\" transform=\"rotate(0, 156.66, 1016.03)\" x=\"156.66\" y=\"1016.03\">5.0</text>\n",
       "</g>\n",
       "<g clip-path=\"url(#clip0100)\">\n",
       "<text style=\"fill:#000000; fill-opacity:1; font-family:Arial,Helvetica Neue,Helvetica,sans-serif; font-size:48px; text-anchor:end;\" transform=\"rotate(0, 156.66, 721.978)\" x=\"156.66\" y=\"721.978\">7.5</text>\n",
       "</g>\n",
       "<g clip-path=\"url(#clip0100)\">\n",
       "<text style=\"fill:#000000; fill-opacity:1; font-family:Arial,Helvetica Neue,Helvetica,sans-serif; font-size:48px; text-anchor:end;\" transform=\"rotate(0, 156.66, 427.924)\" x=\"156.66\" y=\"427.924\">10.0</text>\n",
       "</g>\n",
       "<g clip-path=\"url(#clip0100)\">\n",
       "<text style=\"fill:#000000; fill-opacity:1; font-family:Arial,Helvetica Neue,Helvetica,sans-serif; font-size:48px; text-anchor:end;\" transform=\"rotate(0, 156.66, 133.871)\" x=\"156.66\" y=\"133.871\">12.5</text>\n",
       "</g>\n",
       "<g clip-path=\"url(#clip0100)\">\n",
       "<text style=\"fill:#000000; fill-opacity:1; font-family:Arial,Helvetica Neue,Helvetica,sans-serif; font-size:66px; text-anchor:middle;\" transform=\"rotate(0, 1266.71, 1559.48)\" x=\"1266.71\" y=\"1559.48\">n</text>\n",
       "</g>\n",
       "<polyline clip-path=\"url(#clip0102)\" style=\"stroke:#009af9; stroke-width:4; stroke-opacity:1; fill:none\" points=\"\n",
       "  242.135,1011.13 583.659,653.937 1152.87,86.2547 1722.07,965.833 2291.28,670.741 \n",
       "  \"/>\n",
       "<polyline clip-path=\"url(#clip0102)\" style=\"stroke:#e26f46; stroke-width:4; stroke-opacity:1; fill:none\" points=\"\n",
       "  242.135,1216.68 583.659,1168.49 1152.87,914.806 1722.07,1386.61 2291.28,1237.13 \n",
       "  \"/>\n",
       "<path clip-path=\"url(#clip0100)\" d=\"\n",
       "M1539.11 312.204 L2280.76 312.204 L2280.76 130.764 L1539.11 130.764  Z\n",
       "  \" fill=\"#ffffff\" fill-rule=\"evenodd\" fill-opacity=\"1\"/>\n",
       "<polyline clip-path=\"url(#clip0100)\" style=\"stroke:#000000; stroke-width:4; stroke-opacity:1; fill:none\" points=\"\n",
       "  1539.11,312.204 2280.76,312.204 2280.76,130.764 1539.11,130.764 1539.11,312.204 \n",
       "  \"/>\n",
       "<polyline clip-path=\"url(#clip0100)\" style=\"stroke:#009af9; stroke-width:4; stroke-opacity:1; fill:none\" points=\"\n",
       "  1563.11,191.244 1707.11,191.244 \n",
       "  \"/>\n",
       "<g clip-path=\"url(#clip0100)\">\n",
       "<text style=\"fill:#000000; fill-opacity:1; font-family:Arial,Helvetica Neue,Helvetica,sans-serif; font-size:48px; text-anchor:start;\" transform=\"rotate(0, 1731.11, 208.744)\" x=\"1731.11\" y=\"208.744\">data-driven uncertainty</text>\n",
       "</g>\n",
       "<polyline clip-path=\"url(#clip0100)\" style=\"stroke:#e26f46; stroke-width:4; stroke-opacity:1; fill:none\" points=\"\n",
       "  1563.11,251.724 1707.11,251.724 \n",
       "  \"/>\n",
       "<g clip-path=\"url(#clip0100)\">\n",
       "<text style=\"fill:#000000; fill-opacity:1; font-family:Arial,Helvetica Neue,Helvetica,sans-serif; font-size:48px; text-anchor:start;\" transform=\"rotate(0, 1731.11, 269.224)\" x=\"1731.11\" y=\"269.224\">box uncertainty</text>\n",
       "</g>\n",
       "</svg>\n"
      ]
     },
     "execution_count": 82,
     "metadata": {},
     "output_type": "execute_result"
    }
   ],
   "source": [
    "# 输出Γ=10时三种uncertainty set给出的difference\n",
    "using Plots\n",
    "temp_p = plot([10,25,50,75,100],output[13,:],xlabel = \"n\", label = \"data-driven uncertainty\")\n",
    "plot!(temp_p,[10,25,50,75,100],output[12,:], label = \"box uncertainty\")\n",
    "# plot!(temp_p,[10,25,50,75,100],output[11,:], label = \"U2\")"
   ]
  },
  {
   "cell_type": "markdown",
   "metadata": {},
   "source": [
    "### 可视化"
   ]
  },
  {
   "cell_type": "code",
   "execution_count": 18,
   "metadata": {},
   "outputs": [
    {
     "data": {
      "image/svg+xml": [
       "<?xml version=\"1.0\" encoding=\"utf-8\"?>\n",
       "<svg xmlns=\"http://www.w3.org/2000/svg\" xmlns:xlink=\"http://www.w3.org/1999/xlink\" width=\"400\" height=\"300\" viewBox=\"0 0 1600 1200\">\n",
       "<defs>\n",
       "  <clipPath id=\"clip5600\">\n",
       "    <rect x=\"0\" y=\"0\" width=\"1600\" height=\"1200\"/>\n",
       "  </clipPath>\n",
       "</defs>\n",
       "<path clip-path=\"url(#clip5600)\" d=\"\n",
       "M0 1200 L1600 1200 L1600 0 L0 0  Z\n",
       "  \" fill=\"#ffffff\" fill-rule=\"evenodd\" fill-opacity=\"1\"/>\n",
       "<defs>\n",
       "  <clipPath id=\"clip5601\">\n",
       "    <rect x=\"320\" y=\"0\" width=\"1121\" height=\"1121\"/>\n",
       "  </clipPath>\n",
       "</defs>\n",
       "<path clip-path=\"url(#clip5600)\" d=\"\n",
       "M180.66 1087.47 L1552.76 1087.47 L1552.76 47.2441 L180.66 47.2441  Z\n",
       "  \" fill=\"#ffffff\" fill-rule=\"evenodd\" fill-opacity=\"1\"/>\n",
       "<defs>\n",
       "  <clipPath id=\"clip5602\">\n",
       "    <rect x=\"180\" y=\"47\" width=\"1373\" height=\"1041\"/>\n",
       "  </clipPath>\n",
       "</defs>\n",
       "<polyline clip-path=\"url(#clip5602)\" style=\"stroke:#000000; stroke-width:2; stroke-opacity:0.1; fill:none\" points=\"\n",
       "  363.319,1087.47 363.319,47.2441 \n",
       "  \"/>\n",
       "<polyline clip-path=\"url(#clip5602)\" style=\"stroke:#000000; stroke-width:2; stroke-opacity:0.1; fill:none\" points=\"\n",
       "  650.97,1087.47 650.97,47.2441 \n",
       "  \"/>\n",
       "<polyline clip-path=\"url(#clip5602)\" style=\"stroke:#000000; stroke-width:2; stroke-opacity:0.1; fill:none\" points=\"\n",
       "  938.621,1087.47 938.621,47.2441 \n",
       "  \"/>\n",
       "<polyline clip-path=\"url(#clip5602)\" style=\"stroke:#000000; stroke-width:2; stroke-opacity:0.1; fill:none\" points=\"\n",
       "  1226.27,1087.47 1226.27,47.2441 \n",
       "  \"/>\n",
       "<polyline clip-path=\"url(#clip5602)\" style=\"stroke:#000000; stroke-width:2; stroke-opacity:0.1; fill:none\" points=\"\n",
       "  1513.92,1087.47 1513.92,47.2441 \n",
       "  \"/>\n",
       "<polyline clip-path=\"url(#clip5602)\" style=\"stroke:#000000; stroke-width:2; stroke-opacity:0.1; fill:none\" points=\"\n",
       "  180.66,1048.93 1552.76,1048.93 \n",
       "  \"/>\n",
       "<polyline clip-path=\"url(#clip5602)\" style=\"stroke:#000000; stroke-width:2; stroke-opacity:0.1; fill:none\" points=\"\n",
       "  180.66,902.592 1552.76,902.592 \n",
       "  \"/>\n",
       "<polyline clip-path=\"url(#clip5602)\" style=\"stroke:#000000; stroke-width:2; stroke-opacity:0.1; fill:none\" points=\"\n",
       "  180.66,756.259 1552.76,756.259 \n",
       "  \"/>\n",
       "<polyline clip-path=\"url(#clip5602)\" style=\"stroke:#000000; stroke-width:2; stroke-opacity:0.1; fill:none\" points=\"\n",
       "  180.66,609.926 1552.76,609.926 \n",
       "  \"/>\n",
       "<polyline clip-path=\"url(#clip5602)\" style=\"stroke:#000000; stroke-width:2; stroke-opacity:0.1; fill:none\" points=\"\n",
       "  180.66,463.592 1552.76,463.592 \n",
       "  \"/>\n",
       "<polyline clip-path=\"url(#clip5602)\" style=\"stroke:#000000; stroke-width:2; stroke-opacity:0.1; fill:none\" points=\"\n",
       "  180.66,317.259 1552.76,317.259 \n",
       "  \"/>\n",
       "<polyline clip-path=\"url(#clip5602)\" style=\"stroke:#000000; stroke-width:2; stroke-opacity:0.1; fill:none\" points=\"\n",
       "  180.66,170.925 1552.76,170.925 \n",
       "  \"/>\n",
       "<polyline clip-path=\"url(#clip5600)\" style=\"stroke:#000000; stroke-width:4; stroke-opacity:1; fill:none\" points=\"\n",
       "  180.66,1087.47 1552.76,1087.47 \n",
       "  \"/>\n",
       "<polyline clip-path=\"url(#clip5600)\" style=\"stroke:#000000; stroke-width:4; stroke-opacity:1; fill:none\" points=\"\n",
       "  180.66,1087.47 180.66,47.2441 \n",
       "  \"/>\n",
       "<polyline clip-path=\"url(#clip5600)\" style=\"stroke:#000000; stroke-width:4; stroke-opacity:1; fill:none\" points=\"\n",
       "  363.319,1087.47 363.319,1074.99 \n",
       "  \"/>\n",
       "<polyline clip-path=\"url(#clip5600)\" style=\"stroke:#000000; stroke-width:4; stroke-opacity:1; fill:none\" points=\"\n",
       "  650.97,1087.47 650.97,1074.99 \n",
       "  \"/>\n",
       "<polyline clip-path=\"url(#clip5600)\" style=\"stroke:#000000; stroke-width:4; stroke-opacity:1; fill:none\" points=\"\n",
       "  938.621,1087.47 938.621,1074.99 \n",
       "  \"/>\n",
       "<polyline clip-path=\"url(#clip5600)\" style=\"stroke:#000000; stroke-width:4; stroke-opacity:1; fill:none\" points=\"\n",
       "  1226.27,1087.47 1226.27,1074.99 \n",
       "  \"/>\n",
       "<polyline clip-path=\"url(#clip5600)\" style=\"stroke:#000000; stroke-width:4; stroke-opacity:1; fill:none\" points=\"\n",
       "  1513.92,1087.47 1513.92,1074.99 \n",
       "  \"/>\n",
       "<polyline clip-path=\"url(#clip5600)\" style=\"stroke:#000000; stroke-width:4; stroke-opacity:1; fill:none\" points=\"\n",
       "  180.66,1048.93 197.125,1048.93 \n",
       "  \"/>\n",
       "<polyline clip-path=\"url(#clip5600)\" style=\"stroke:#000000; stroke-width:4; stroke-opacity:1; fill:none\" points=\"\n",
       "  180.66,902.592 197.125,902.592 \n",
       "  \"/>\n",
       "<polyline clip-path=\"url(#clip5600)\" style=\"stroke:#000000; stroke-width:4; stroke-opacity:1; fill:none\" points=\"\n",
       "  180.66,756.259 197.125,756.259 \n",
       "  \"/>\n",
       "<polyline clip-path=\"url(#clip5600)\" style=\"stroke:#000000; stroke-width:4; stroke-opacity:1; fill:none\" points=\"\n",
       "  180.66,609.926 197.125,609.926 \n",
       "  \"/>\n",
       "<polyline clip-path=\"url(#clip5600)\" style=\"stroke:#000000; stroke-width:4; stroke-opacity:1; fill:none\" points=\"\n",
       "  180.66,463.592 197.125,463.592 \n",
       "  \"/>\n",
       "<polyline clip-path=\"url(#clip5600)\" style=\"stroke:#000000; stroke-width:4; stroke-opacity:1; fill:none\" points=\"\n",
       "  180.66,317.259 197.125,317.259 \n",
       "  \"/>\n",
       "<polyline clip-path=\"url(#clip5600)\" style=\"stroke:#000000; stroke-width:4; stroke-opacity:1; fill:none\" points=\"\n",
       "  180.66,170.925 197.125,170.925 \n",
       "  \"/>\n",
       "<g clip-path=\"url(#clip5600)\">\n",
       "<text style=\"fill:#000000; fill-opacity:1; font-family:Arial,Helvetica Neue,Helvetica,sans-serif; font-size:48px; text-anchor:middle;\" transform=\"rotate(0, 363.319, 1137.47)\" x=\"363.319\" y=\"1137.47\">2</text>\n",
       "</g>\n",
       "<g clip-path=\"url(#clip5600)\">\n",
       "<text style=\"fill:#000000; fill-opacity:1; font-family:Arial,Helvetica Neue,Helvetica,sans-serif; font-size:48px; text-anchor:middle;\" transform=\"rotate(0, 650.97, 1137.47)\" x=\"650.97\" y=\"1137.47\">4</text>\n",
       "</g>\n",
       "<g clip-path=\"url(#clip5600)\">\n",
       "<text style=\"fill:#000000; fill-opacity:1; font-family:Arial,Helvetica Neue,Helvetica,sans-serif; font-size:48px; text-anchor:middle;\" transform=\"rotate(0, 938.621, 1137.47)\" x=\"938.621\" y=\"1137.47\">6</text>\n",
       "</g>\n",
       "<g clip-path=\"url(#clip5600)\">\n",
       "<text style=\"fill:#000000; fill-opacity:1; font-family:Arial,Helvetica Neue,Helvetica,sans-serif; font-size:48px; text-anchor:middle;\" transform=\"rotate(0, 1226.27, 1137.47)\" x=\"1226.27\" y=\"1137.47\">8</text>\n",
       "</g>\n",
       "<g clip-path=\"url(#clip5600)\">\n",
       "<text style=\"fill:#000000; fill-opacity:1; font-family:Arial,Helvetica Neue,Helvetica,sans-serif; font-size:48px; text-anchor:middle;\" transform=\"rotate(0, 1513.92, 1137.47)\" x=\"1513.92\" y=\"1137.47\">10</text>\n",
       "</g>\n",
       "<g clip-path=\"url(#clip5600)\">\n",
       "<text style=\"fill:#000000; fill-opacity:1; font-family:Arial,Helvetica Neue,Helvetica,sans-serif; font-size:48px; text-anchor:end;\" transform=\"rotate(0, 164.66, 1066.43)\" x=\"164.66\" y=\"1066.43\">0.25</text>\n",
       "</g>\n",
       "<g clip-path=\"url(#clip5600)\">\n",
       "<text style=\"fill:#000000; fill-opacity:1; font-family:Arial,Helvetica Neue,Helvetica,sans-serif; font-size:48px; text-anchor:end;\" transform=\"rotate(0, 164.66, 920.092)\" x=\"164.66\" y=\"920.092\">0.50</text>\n",
       "</g>\n",
       "<g clip-path=\"url(#clip5600)\">\n",
       "<text style=\"fill:#000000; fill-opacity:1; font-family:Arial,Helvetica Neue,Helvetica,sans-serif; font-size:48px; text-anchor:end;\" transform=\"rotate(0, 164.66, 773.759)\" x=\"164.66\" y=\"773.759\">0.75</text>\n",
       "</g>\n",
       "<g clip-path=\"url(#clip5600)\">\n",
       "<text style=\"fill:#000000; fill-opacity:1; font-family:Arial,Helvetica Neue,Helvetica,sans-serif; font-size:48px; text-anchor:end;\" transform=\"rotate(0, 164.66, 627.426)\" x=\"164.66\" y=\"627.426\">1.00</text>\n",
       "</g>\n",
       "<g clip-path=\"url(#clip5600)\">\n",
       "<text style=\"fill:#000000; fill-opacity:1; font-family:Arial,Helvetica Neue,Helvetica,sans-serif; font-size:48px; text-anchor:end;\" transform=\"rotate(0, 164.66, 481.092)\" x=\"164.66\" y=\"481.092\">1.25</text>\n",
       "</g>\n",
       "<g clip-path=\"url(#clip5600)\">\n",
       "<text style=\"fill:#000000; fill-opacity:1; font-family:Arial,Helvetica Neue,Helvetica,sans-serif; font-size:48px; text-anchor:end;\" transform=\"rotate(0, 164.66, 334.759)\" x=\"164.66\" y=\"334.759\">1.50</text>\n",
       "</g>\n",
       "<g clip-path=\"url(#clip5600)\">\n",
       "<text style=\"fill:#000000; fill-opacity:1; font-family:Arial,Helvetica Neue,Helvetica,sans-serif; font-size:48px; text-anchor:end;\" transform=\"rotate(0, 164.66, 188.425)\" x=\"164.66\" y=\"188.425\">1.75</text>\n",
       "</g>\n",
       "<circle clip-path=\"url(#clip5602)\" cx=\"219.493\" cy=\"181.329\" r=\"14\" fill=\"#009af9\" fill-rule=\"evenodd\" fill-opacity=\"1\" stroke=\"#000000\" stroke-opacity=\"1\" stroke-width=\"2.4\"/>\n",
       "<circle clip-path=\"url(#clip5602)\" cx=\"363.319\" cy=\"412.202\" r=\"14\" fill=\"#009af9\" fill-rule=\"evenodd\" fill-opacity=\"1\" stroke=\"#000000\" stroke-opacity=\"1\" stroke-width=\"2.4\"/>\n",
       "<circle clip-path=\"url(#clip5602)\" cx=\"507.144\" cy=\"1058.03\" r=\"14\" fill=\"#009af9\" fill-rule=\"evenodd\" fill-opacity=\"1\" stroke=\"#000000\" stroke-opacity=\"1\" stroke-width=\"2.4\"/>\n",
       "<circle clip-path=\"url(#clip5602)\" cx=\"650.97\" cy=\"279.245\" r=\"14\" fill=\"#009af9\" fill-rule=\"evenodd\" fill-opacity=\"1\" stroke=\"#000000\" stroke-opacity=\"1\" stroke-width=\"2.4\"/>\n",
       "<circle clip-path=\"url(#clip5602)\" cx=\"794.795\" cy=\"434.286\" r=\"14\" fill=\"#009af9\" fill-rule=\"evenodd\" fill-opacity=\"1\" stroke=\"#000000\" stroke-opacity=\"1\" stroke-width=\"2.4\"/>\n",
       "<circle clip-path=\"url(#clip5602)\" cx=\"938.621\" cy=\"762.799\" r=\"14\" fill=\"#009af9\" fill-rule=\"evenodd\" fill-opacity=\"1\" stroke=\"#000000\" stroke-opacity=\"1\" stroke-width=\"2.4\"/>\n",
       "<circle clip-path=\"url(#clip5602)\" cx=\"1082.45\" cy=\"842.642\" r=\"14\" fill=\"#009af9\" fill-rule=\"evenodd\" fill-opacity=\"1\" stroke=\"#000000\" stroke-opacity=\"1\" stroke-width=\"2.4\"/>\n",
       "<circle clip-path=\"url(#clip5602)\" cx=\"1226.27\" cy=\"205.867\" r=\"14\" fill=\"#009af9\" fill-rule=\"evenodd\" fill-opacity=\"1\" stroke=\"#000000\" stroke-opacity=\"1\" stroke-width=\"2.4\"/>\n",
       "<circle clip-path=\"url(#clip5602)\" cx=\"1370.1\" cy=\"76.6846\" r=\"14\" fill=\"#009af9\" fill-rule=\"evenodd\" fill-opacity=\"1\" stroke=\"#000000\" stroke-opacity=\"1\" stroke-width=\"2.4\"/>\n",
       "<circle clip-path=\"url(#clip5602)\" cx=\"1513.92\" cy=\"499.155\" r=\"14\" fill=\"#009af9\" fill-rule=\"evenodd\" fill-opacity=\"1\" stroke=\"#000000\" stroke-opacity=\"1\" stroke-width=\"2.4\"/>\n",
       "<path clip-path=\"url(#clip5600)\" d=\"\n",
       "M1293.93 203.724 L1504.76 203.724 L1504.76 82.7641 L1293.93 82.7641  Z\n",
       "  \" fill=\"#ffffff\" fill-rule=\"evenodd\" fill-opacity=\"1\"/>\n",
       "<polyline clip-path=\"url(#clip5600)\" style=\"stroke:#000000; stroke-width:4; stroke-opacity:1; fill:none\" points=\"\n",
       "  1293.93,203.724 1504.76,203.724 1504.76,82.7641 1293.93,82.7641 1293.93,203.724 \n",
       "  \"/>\n",
       "<circle clip-path=\"url(#clip5600)\" cx=\"1365.93\" cy=\"143.244\" r=\"21\" fill=\"#009af9\" fill-rule=\"evenodd\" fill-opacity=\"1\" stroke=\"#000000\" stroke-opacity=\"1\" stroke-width=\"2.4\"/>\n",
       "<g clip-path=\"url(#clip5600)\">\n",
       "<text style=\"fill:#000000; fill-opacity:1; font-family:Arial,Helvetica Neue,Helvetica,sans-serif; font-size:48px; text-anchor:start;\" transform=\"rotate(0, 1421.93, 160.744)\" x=\"1421.93\" y=\"160.744\">y1</text>\n",
       "</g>\n",
       "</svg>\n"
      ]
     },
     "execution_count": 18,
     "metadata": {},
     "output_type": "execute_result"
    }
   ],
   "source": [
    "# using StatsPlots # no need for `using Plots` as that is reexported here\n",
    "gr(size=(400,300))\n",
    "using StatsPlots: @df, StatsPlots\n",
    "using DataFrames, IndexedTables\n",
    "df = DataFrame(a = 1:10, b = 10 .* rand(10), c = 10 .* rand(10))\n",
    "@df df plot(:a, [:b :c], colour = [:red :blue])\n",
    "@df df scatter(:a, :b, markersize = 4 .* log.(:c .+ 0.1))\n",
    "t = table(1:10, rand(10), names = [:a, :b]) # IndexedTable\n",
    "@df t scatter(2 .* :b)"
   ]
  },
  {
   "cell_type": "code",
   "execution_count": 20,
   "metadata": {},
   "outputs": [],
   "source": [
    "using Plots\n",
    "# define the Lorenz attractor\n",
    "Base.@kwdef mutable struct Lorenz\n",
    "    dt::Float64 = 0.02\n",
    "    σ::Float64 = 10\n",
    "    ρ::Float64 = 28\n",
    "    β::Float64 = 8/3\n",
    "    x::Float64 = 1\n",
    "    y::Float64 = 1\n",
    "    z::Float64 = 1\n",
    "end\n",
    "\n",
    "function step!(l::Lorenz)\n",
    "    dx = l.σ * (l.y - l.x);         l.x += l.dt * dx\n",
    "    dy = l.x * (l.ρ - l.z) - l.y;   l.y += l.dt * dy\n",
    "    dz = l.x * l.y - l.β * l.z;     l.z += l.dt * dz\n",
    "end\n",
    "\n",
    "attractor = Lorenz()\n",
    "\n",
    "\n",
    "# initialize a 3D plot with 1 empty series\n",
    "plt = plot3d(\n",
    "    1,\n",
    "    xlim = (-30, 30),\n",
    "    ylim = (-30, 30),\n",
    "    zlim = (0, 60),\n",
    "    title = \"Lorenz Attractor\",\n",
    "    marker = 2,\n",
    ")\n",
    "\n",
    "# build an animated gif by pushing new points to the plot, saving every 10th frame\n",
    "@gif for i=1:1500\n",
    "    step!(attractor)\n",
    "    push!(plt, attractor.x, attractor.y, attractor.z)\n",
    "end every 10"
   ]
  },
  {
   "cell_type": "markdown",
   "metadata": {},
   "source": [
    "### 练习部分---（非正式）"
   ]
  },
  {
   "cell_type": "code",
   "execution_count": 5,
   "metadata": {
    "scrolled": true
   },
   "outputs": [
    {
     "data": {
      "text/latex": [
       "$$ \\begin{alignat*}{1}\\min\\quad & 0\\\\\n",
       "\\text{Subject to} \\quad\\end{alignat*}\n",
       " $$"
      ],
      "text/plain": [
       "Feasibility problem with:\n",
       " * 0 linear constraints\n",
       " * 0 variables\n",
       "Solver is Gurobi"
      ]
     },
     "execution_count": 5,
     "metadata": {},
     "output_type": "execute_result"
    }
   ],
   "source": [
    "m = RobustModel(solver=GurobiSolver(OutputFlag=0))"
   ]
  },
  {
   "cell_type": "code",
   "execution_count": null,
   "metadata": {},
   "outputs": [],
   "source": [
    "ENV[\"CPLEX_STUDIO_BINARIES\"] = \"C:\\Program Files\\IBM\\ILOG\\CPLEX_Studio1210\\cplex\\bin\\x64_win64\" "
   ]
  },
  {
   "cell_type": "code",
   "execution_count": 2,
   "metadata": {},
   "outputs": [
    {
     "data": {
      "text/plain": [
       "CarpenterPrimal (generic function with 1 method)"
      ]
     },
     "execution_count": 2,
     "metadata": {},
     "output_type": "execute_result"
    }
   ],
   "source": [
    "function CarpenterPrimal(c,A,b)\n",
    "    # 定义Model对象, OutputFlag = 0指不输出log\n",
    "    Primal = Model(solver = GurobiSolver(OutputFlag = 0))\n",
    "    # 定义变量，注意这里使用了宏（macro），宏的调用也是Julia&JuMP高效编译/元编程(metaprogramming)的重要技巧\n",
    "    @variable(Primal, x[1:2]>=0)\n",
    "    # 定义不等式约束\n",
    "    constr = @constraint(Primal, A*x.<=b)\n",
    "    # 定义目标函数\n",
    "    @objective(Primal, Max, dot(c,x))\n",
    "    # 求解\n",
    "    solve(Primal)\n",
    "    # 返回最优目标函数值，最优解（原问题），最优解（对偶问题）\n",
    "    return getobjectivevalue(Primal), getvalue(x), getdual(constr)\n",
    "end"
   ]
  },
  {
   "cell_type": "code",
   "execution_count": 27,
   "metadata": {},
   "outputs": [
    {
     "data": {
      "text/plain": [
       "3×3 Diagonal{Float64,Array{Float64,1}}:\n",
       " 1.0   ⋅    ⋅ \n",
       "  ⋅   1.0   ⋅ \n",
       "  ⋅    ⋅   1.0"
      ]
     },
     "execution_count": 27,
     "metadata": {},
     "output_type": "execute_result"
    }
   ],
   "source": [
    " Diagonal(ones(3,3))"
   ]
  },
  {
   "cell_type": "code",
   "execution_count": 30,
   "metadata": {},
   "outputs": [
    {
     "data": {
      "text/plain": [
       "2×2 Array{Float64,2}:\n",
       " 1.0  0.0\n",
       " 0.0  1.0"
      ]
     },
     "execution_count": 30,
     "metadata": {},
     "output_type": "execute_result"
    }
   ],
   "source": [
    "Matrix{Float64}(I, 2, 2)"
   ]
  },
  {
   "cell_type": "code",
   "execution_count": 6,
   "metadata": {},
   "outputs": [
    {
     "data": {
      "text/latex": [
       "$$ \\begin{alignat*}{1}\\min\\quad & 0\\\\\n",
       "\\text{Subject to} \\quad\\end{alignat*}\n",
       " $$"
      ],
      "text/plain": [
       "Feasibility problem with:\n",
       " * 0 linear constraints\n",
       " * 0 variables\n",
       "Solver is default solver"
      ]
     },
     "execution_count": 6,
     "metadata": {},
     "output_type": "execute_result"
    }
   ],
   "source": [
    "model = Model()"
   ]
  },
  {
   "cell_type": "code",
   "execution_count": null,
   "metadata": {},
   "outputs": [],
   "source": []
  },
  {
   "cell_type": "code",
   "execution_count": 23,
   "metadata": {
    "scrolled": true
   },
   "outputs": [
    {
     "data": {
      "text/latex": [
       "$$ x_{i,j} \\quad\\forall i \\in \\{1,2\\}, j \\in \\{3,4\\} $$"
      ],
      "text/plain": [
       "x[i,j] for all i in {1,2}, j in {3,4}"
      ]
     },
     "execution_count": 23,
     "metadata": {},
     "output_type": "execute_result"
    }
   ],
   "source": [
    "@variable(model, x[1:2, 3:4])"
   ]
  },
  {
   "cell_type": "code",
   "execution_count": 28,
   "metadata": {},
   "outputs": [
    {
     "name": "stderr",
     "output_type": "stream",
     "text": [
      "┌ Warning: A variable or constraint named x is already attached to this model. If creating variables programmatically, use the anonymous variable syntax x = @variable(m, [1:N], ...).\n",
      "└ @ JuMP C:\\Users\\24829\\.julia\\packages\\JuMP\\I7whV\\src\\JuMP.jl:857\n"
     ]
    },
    {
     "data": {
      "text/latex": [
       "$$ x_{i,j} \\quad\\forall i \\in \\{1,2\\}, j \\in \\{A,B\\} $$"
      ],
      "text/plain": [
       "x[i,j] for all i in {1,2}, j in {A,B}"
      ]
     },
     "execution_count": 28,
     "metadata": {},
     "output_type": "execute_result"
    }
   ],
   "source": [
    "@variable(model, x[1:2, [:A,:B]])"
   ]
  },
  {
   "cell_type": "code",
   "execution_count": 30,
   "metadata": {},
   "outputs": [
    {
     "data": {
      "text/latex": [
       "$$ x_{1,A} $$"
      ],
      "text/plain": [
       "x[1,A]"
      ]
     },
     "execution_count": 30,
     "metadata": {},
     "output_type": "execute_result"
    }
   ],
   "source": [
    "x[1, :A]"
   ]
  },
  {
   "cell_type": "code",
   "execution_count": 31,
   "metadata": {},
   "outputs": [
    {
     "name": "stderr",
     "output_type": "stream",
     "text": [
      "┌ Warning: A variable or constraint named x is already attached to this model. If creating variables programmatically, use the anonymous variable syntax x = @variable(m, [1:N], ...).\n",
      "└ @ JuMP C:\\Users\\24829\\.julia\\packages\\JuMP\\I7whV\\src\\JuMP.jl:857\n"
     ]
    },
    {
     "data": {
      "text/latex": [
       "$$ x_{i,j} \\geq \\dots \\quad\\forall i \\in \\{2,3\\}, j \\in \\{1,3\\} $$"
      ],
      "text/plain": [
       "x[i,j] >= .. for all i in {2,3}, j in {1,3}"
      ]
     },
     "execution_count": 31,
     "metadata": {},
     "output_type": "execute_result"
    }
   ],
   "source": [
    "@variable(model, x[i=2:3, j=1:2:3] >= 0.5i + j)"
   ]
  },
  {
   "cell_type": "code",
   "execution_count": 34,
   "metadata": {},
   "outputs": [
    {
     "name": "stderr",
     "output_type": "stream",
     "text": [
      "┌ Warning: A variable or constraint named x is already attached to this model. If creating variables programmatically, use the anonymous variable syntax x = @variable(m, [1:N], ...).\n",
      "└ @ JuMP C:\\Users\\24829\\.julia\\packages\\JuMP\\I7whV\\src\\JuMP.jl:857\n",
      "┌ Warning: A variable or constraint named x is already attached to this model. If creating variables programmatically, use the anonymous variable syntax x = @variable(m, [1:N], ...).\n",
      "└ @ JuMP C:\\Users\\24829\\.julia\\packages\\JuMP\\I7whV\\src\\JuMP.jl:857\n"
     ]
    },
    {
     "data": {
      "text/latex": [
       "$$ x_{i,j} \\quad\\forall i \\in \\{1,2\\}, j \\in \\{\\dots\\} $$"
      ],
      "text/plain": [
       "x[i,j] for all i in {1,2}, j in {..}"
      ]
     },
     "execution_count": 34,
     "metadata": {},
     "output_type": "execute_result"
    }
   ],
   "source": [
    "@variable(model, x[i=2:3, j=1:2:3] >= 0.5i + j)\n",
    "@variable(model, x[i=1:2, j=i:2])"
   ]
  },
  {
   "cell_type": "code",
   "execution_count": 35,
   "metadata": {},
   "outputs": [
    {
     "name": "stderr",
     "output_type": "stream",
     "text": [
      "┌ Warning: A variable or constraint named x is already attached to this model. If creating variables programmatically, use the anonymous variable syntax x = @variable(m, [1:N], ...).\n",
      "└ @ JuMP C:\\Users\\24829\\.julia\\packages\\JuMP\\I7whV\\src\\JuMP.jl:857\n"
     ]
    },
    {
     "data": {
      "text/latex": [
       "$$ x_{i} \\quad\\forall i \\in \\{1,2,3,4\\} s.t. mod(i, 2) == 0 $$"
      ],
      "text/plain": [
       "x[i] for all i in {1,2,3,4} s.t. mod(i, 2) == 0"
      ]
     },
     "execution_count": 35,
     "metadata": {},
     "output_type": "execute_result"
    }
   ],
   "source": [
    "@variable(model, x[i=1:4; mod(i, 2)==0])"
   ]
  },
  {
   "cell_type": "code",
   "execution_count": 27,
   "metadata": {},
   "outputs": [
    {
     "name": "stderr",
     "output_type": "stream",
     "text": [
      "┌ Warning: A variable or constraint named x is already attached to this model. If creating variables programmatically, use the anonymous variable syntax x = @variable(m, [1:N], ...).\n",
      "└ @ JuMP C:\\Users\\24829\\.julia\\packages\\JuMP\\I7whV\\src\\JuMP.jl:857\n"
     ]
    },
    {
     "data": {
      "text/latex": [
       "$$ x_{i,j} \\geq \\dots \\quad\\forall i \\in \\{1,2\\}, j \\in \\{1,2\\} $$"
      ],
      "text/plain": [
       "2×2 Array{Variable,2}:\n",
       " x[1,1]  x[1,2]\n",
       " x[2,1]  x[2,2]"
      ]
     },
     "execution_count": 27,
     "metadata": {},
     "output_type": "execute_result"
    }
   ],
   "source": [
    "@variable(model, x[i=1:2, j=1:2] >= 2i + j)"
   ]
  },
  {
   "cell_type": "code",
   "execution_count": 9,
   "metadata": {},
   "outputs": [
    {
     "data": {
      "text/latex": [
       "$$ x1_{i,j,k} \\quad\\forall i \\in \\{1,2,\\dots,9,10\\}, j \\in \\{1,2,\\dots,9,10\\}, k \\in \\{1,2,\\dots,9,10\\} s.t. (i, j, k) in S $$"
      ],
      "text/plain": [
       "x1[i,j,k] for all i in {1,2,..,9,10}, j in {1,2,..,9,10}, k in {1,2,..,9,10} s.t. (i, j, k) in S"
      ]
     },
     "execution_count": 9,
     "metadata": {},
     "output_type": "execute_result"
    }
   ],
   "source": [
    "N = 10\n",
    "S = [(1, 1, 1),(N, N, N)]\n",
    "# Slow. It evaluates conditional N^3 times.\n",
    "@variable(model, x1[i=1:N, j=1:N, k=1:N; (i, j, k) in S])"
   ]
  },
  {
   "cell_type": "code",
   "execution_count": 10,
   "metadata": {},
   "outputs": [
    {
     "ename": "UndefVarError",
     "evalue": "UndefVarError: set_name not defined",
     "output_type": "error",
     "traceback": [
      "UndefVarError: set_name not defined",
      "",
      "Stacktrace:",
      " [1] top-level scope at .\\In[10]:5"
     ]
    }
   ],
   "source": [
    "x3 = Dict()\n",
    "for (i, j, k) in S\n",
    "    x3[i, j, k] = @variable(model)\n",
    "    # Optional, if you care about pretty printing:\n",
    "    set_name(x3[i, j, k], \"x[$i,$j,$k]\")\n",
    "end"
   ]
  },
  {
   "cell_type": "code",
   "execution_count": 14,
   "metadata": {},
   "outputs": [
    {
     "data": {
      "text/plain": [
       "2"
      ]
     },
     "execution_count": 14,
     "metadata": {},
     "output_type": "execute_result"
    }
   ],
   "source": [
    "m = Model()\n",
    "n = 2"
   ]
  },
  {
   "cell_type": "code",
   "execution_count": 38,
   "metadata": {},
   "outputs": [
    {
     "name": "stderr",
     "output_type": "stream",
     "text": [
      "┌ Warning: A variable or constraint named x is already attached to this model. If creating variables programmatically, use the anonymous variable syntax x = @variable(m, [1:N], ...).\n",
      "└ @ JuMP C:\\Users\\24829\\.julia\\packages\\JuMP\\I7whV\\src\\JuMP.jl:857\n",
      "┌ Warning: A variable or constraint named y is already attached to this model. If creating variables programmatically, use the anonymous variable syntax x = @variable(m, [1:N], ...).\n",
      "└ @ JuMP C:\\Users\\24829\\.julia\\packages\\JuMP\\I7whV\\src\\JuMP.jl:857\n",
      "┌ Warning: A variable or constraint named z is already attached to this model. If creating variables programmatically, use the anonymous variable syntax x = @variable(m, [1:N], ...).\n",
      "└ @ JuMP C:\\Users\\24829\\.julia\\packages\\JuMP\\I7whV\\src\\JuMP.jl:857\n",
      "┌ Warning: A variable or constraint named Z is already attached to this model. If creating variables programmatically, use the anonymous variable syntax x = @variable(m, [1:N], ...).\n",
      "└ @ JuMP C:\\Users\\24829\\.julia\\packages\\JuMP\\I7whV\\src\\JuMP.jl:857\n",
      "┌ Warning: A variable or constraint named X is already attached to this model. If creating variables programmatically, use the anonymous variable syntax x = @variable(m, [1:N], ...).\n",
      "└ @ JuMP C:\\Users\\24829\\.julia\\packages\\JuMP\\I7whV\\src\\JuMP.jl:857\n",
      "┌ Warning: A variable or constraint named q is already attached to this model. If creating variables programmatically, use the anonymous variable syntax x = @variable(m, [1:N], ...).\n",
      "└ @ JuMP C:\\Users\\24829\\.julia\\packages\\JuMP\\I7whV\\src\\JuMP.jl:857\n",
      "┌ Warning: A variable or constraint named t is already attached to this model. If creating variables programmatically, use the anonymous variable syntax x = @variable(m, [1:N], ...).\n",
      "└ @ JuMP C:\\Users\\24829\\.julia\\packages\\JuMP\\I7whV\\src\\JuMP.jl:857\n"
     ]
    }
   ],
   "source": [
    "@variables m begin\n",
    "    x\n",
    "    y >= 0\n",
    "    z\n",
    "    Z[1:10], Bin\n",
    "    X[1:3,1:3], SDP\n",
    "    q[i=1:2], (lowerbound = i, start = 2i, upperbound = 3i)\n",
    "    t[j=1:3], (Int, start = j)\n",
    "end"
   ]
  },
  {
   "cell_type": "code",
   "execution_count": 39,
   "metadata": {},
   "outputs": [
    {
     "data": {
      "text/latex": [
       "$$ 3 x + 4 z + 2 $$"
      ],
      "text/plain": [
       "3 x + 4 z + 2"
      ]
     },
     "execution_count": 39,
     "metadata": {},
     "output_type": "execute_result"
    }
   ],
   "source": [
    "aff = AffExpr([x, z], [3.0, 4.0], 2.0)\n",
    "# quad = QuadExpr([x,y],[x,],[3.0,4.0],aff)"
   ]
  },
  {
   "cell_type": "code",
   "execution_count": 40,
   "metadata": {},
   "outputs": [
    {
     "ename": "MethodError",
     "evalue": "MethodError: no method matching getindex(::Variable, ::Int64)",
     "output_type": "error",
     "traceback": [
      "MethodError: no method matching getindex(::Variable, ::Int64)",
      "",
      "Stacktrace:",
      " [1] macro expansion at C:\\Users\\24829\\.julia\\packages\\JuMP\\I7whV\\src\\macros.jl:493 [inlined]",
      " [2] top-level scope at .\\In[40]:1"
     ]
    }
   ],
   "source": [
    "@constraints(m, begin\n",
    "  x >= 1\n",
    "  y - z <= 2\n",
    "  sum_to_one[i=1:3], z[i] + y == 1\n",
    "end)"
   ]
  },
  {
   "cell_type": "code",
   "execution_count": 53,
   "metadata": {
    "scrolled": true
   },
   "outputs": [
    {
     "name": "stderr",
     "output_type": "stream",
     "text": [
      "┌ Warning: A variable or constraint named x is already attached to this model. If creating variables programmatically, use the anonymous variable syntax x = @variable(m, [1:N], ...).\n",
      "└ @ JuMP C:\\Users\\24829\\.julia\\packages\\JuMP\\I7whV\\src\\JuMP.jl:857\n"
     ]
    },
    {
     "data": {
      "text/latex": [
       "$$ x $$"
      ],
      "text/plain": [
       "x"
      ]
     },
     "execution_count": 53,
     "metadata": {},
     "output_type": "execute_result"
    }
   ],
   "source": [
    "@variable(model, x, Bin)"
   ]
  },
  {
   "cell_type": "code",
   "execution_count": 7,
   "metadata": {},
   "outputs": [
    {
     "ename": "LoadError",
     "evalue": "In @variable(model,x[1:2, 1:2] in PSDCone()): Unexpected syntax x[1:2, 1:2] in PSDCone().",
     "output_type": "error",
     "traceback": [
      "In @variable(model,x[1:2, 1:2] in PSDCone()): Unexpected syntax x[1:2, 1:2] in PSDCone().",
      "",
      "Stacktrace:",
      " [1] error(::String, ::String) at .\\error.jl:42",
      " [2] variable_error(::Tuple{Symbol,Expr}, ::String) at C:\\Users\\24829\\.julia\\packages\\JuMP\\I7whV\\src\\macros.jl:976",
      " [3] (::JuMP.var\"#_error#92\"{Tuple{Symbol,Expr}})(::String) at C:\\Users\\24829\\.julia\\packages\\JuMP\\I7whV\\src\\macros.jl:1008",
      " [4] @variable(::LineNumberNode, ::Module, ::Vararg{Any,N} where N) at C:\\Users\\24829\\.julia\\packages\\JuMP\\I7whV\\src\\macros.jl:1088"
     ]
    }
   ],
   "source": [
    "@variable(model, x[1:2, 1:2] in PSDCone())"
   ]
  }
 ],
 "metadata": {
  "kernelspec": {
   "display_name": "Julia 1.4.1",
   "language": "julia",
   "name": "julia-1.4"
  },
  "language_info": {
   "file_extension": ".jl",
   "mimetype": "application/julia",
   "name": "julia",
   "version": "1.4.1"
  }
 },
 "nbformat": 4,
 "nbformat_minor": 2
}
